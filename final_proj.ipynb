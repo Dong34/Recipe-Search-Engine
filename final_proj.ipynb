{
  "nbformat": 4,
  "nbformat_minor": 0,
  "metadata": {
    "colab": {
      "name": "final_proj.ipynb",
      "provenance": [],
      "collapsed_sections": [],
      "machine_shape": "hm"
    },
    "kernelspec": {
      "name": "python3",
      "display_name": "Python 3"
    },
    "language_info": {
      "name": "python"
    },
    "accelerator": "GPU"
  },
  "cells": [
    {
      "cell_type": "code",
      "metadata": {
        "id": "5GSfxYBZ0xjH",
        "colab": {
          "base_uri": "https://localhost:8080/"
        },
        "outputId": "36975343-53d4-4beb-befd-bbf36d6e540a"
      },
      "source": [
        "!pip install python-terrier"
      ],
      "execution_count": null,
      "outputs": [
        {
          "output_type": "stream",
          "name": "stdout",
          "text": [
            "Collecting python-terrier\n",
            "  Downloading python-terrier-0.7.1.tar.gz (95 kB)\n",
            "\u001b[?25l\r\u001b[K     |███▍                            | 10 kB 17.8 MB/s eta 0:00:01\r\u001b[K     |██████▉                         | 20 kB 20.9 MB/s eta 0:00:01\r\u001b[K     |██████████▎                     | 30 kB 12.7 MB/s eta 0:00:01\r\u001b[K     |█████████████▊                  | 40 kB 10.0 MB/s eta 0:00:01\r\u001b[K     |█████████████████▏              | 51 kB 5.5 MB/s eta 0:00:01\r\u001b[K     |████████████████████▋           | 61 kB 6.1 MB/s eta 0:00:01\r\u001b[K     |████████████████████████        | 71 kB 5.8 MB/s eta 0:00:01\r\u001b[K     |███████████████████████████▍    | 81 kB 6.5 MB/s eta 0:00:01\r\u001b[K     |██████████████████████████████▉ | 92 kB 5.0 MB/s eta 0:00:01\r\u001b[K     |████████████████████████████████| 95 kB 2.5 MB/s \n",
            "\u001b[?25hRequirement already satisfied: numpy in /usr/local/lib/python3.7/dist-packages (from python-terrier) (1.19.5)\n",
            "Requirement already satisfied: pandas in /usr/local/lib/python3.7/dist-packages (from python-terrier) (1.1.5)\n",
            "Collecting wget\n",
            "  Downloading wget-3.2.zip (10 kB)\n",
            "Requirement already satisfied: tqdm in /usr/local/lib/python3.7/dist-packages (from python-terrier) (4.62.3)\n",
            "Collecting pyjnius~=1.3.0\n",
            "  Downloading pyjnius-1.3.0-cp37-cp37m-manylinux2010_x86_64.whl (1.1 MB)\n",
            "\u001b[K     |████████████████████████████████| 1.1 MB 39.4 MB/s \n",
            "\u001b[?25hCollecting matchpy\n",
            "  Downloading matchpy-0.5.5-py3-none-any.whl (69 kB)\n",
            "\u001b[K     |████████████████████████████████| 69 kB 6.8 MB/s \n",
            "\u001b[?25hRequirement already satisfied: sklearn in /usr/local/lib/python3.7/dist-packages (from python-terrier) (0.0)\n",
            "Collecting deprecation\n",
            "  Downloading deprecation-2.1.0-py2.py3-none-any.whl (11 kB)\n",
            "Collecting chest\n",
            "  Downloading chest-0.2.3.tar.gz (9.6 kB)\n",
            "Requirement already satisfied: scipy in /usr/local/lib/python3.7/dist-packages (from python-terrier) (1.4.1)\n",
            "Requirement already satisfied: requests in /usr/local/lib/python3.7/dist-packages (from python-terrier) (2.23.0)\n",
            "Requirement already satisfied: joblib in /usr/local/lib/python3.7/dist-packages (from python-terrier) (1.1.0)\n",
            "Collecting nptyping\n",
            "  Downloading nptyping-1.4.4-py3-none-any.whl (31 kB)\n",
            "Requirement already satisfied: more_itertools in /usr/local/lib/python3.7/dist-packages (from python-terrier) (8.12.0)\n",
            "Collecting ir_datasets>=0.3.2\n",
            "  Downloading ir_datasets-0.5.0-py3-none-any.whl (255 kB)\n",
            "\u001b[K     |████████████████████████████████| 255 kB 47.1 MB/s \n",
            "\u001b[?25hRequirement already satisfied: jinja2 in /usr/local/lib/python3.7/dist-packages (from python-terrier) (2.11.3)\n",
            "Requirement already satisfied: statsmodels in /usr/local/lib/python3.7/dist-packages (from python-terrier) (0.10.2)\n",
            "Collecting ir_measures>=0.2.0\n",
            "  Downloading ir_measures-0.2.1.tar.gz (36 kB)\n",
            "Requirement already satisfied: dill in /usr/local/lib/python3.7/dist-packages (from python-terrier) (0.3.4)\n",
            "Collecting lz4>=3.1.1\n",
            "  Downloading lz4-3.1.10-cp37-cp37m-manylinux2010_x86_64.whl (1.8 MB)\n",
            "\u001b[K     |████████████████████████████████| 1.8 MB 43.5 MB/s \n",
            "\u001b[?25hCollecting pyyaml>=5.3.1\n",
            "  Downloading PyYAML-6.0-cp37-cp37m-manylinux_2_5_x86_64.manylinux1_x86_64.manylinux_2_12_x86_64.manylinux2010_x86_64.whl (596 kB)\n",
            "\u001b[K     |████████████████████████████████| 596 kB 36.0 MB/s \n",
            "\u001b[?25hCollecting trec-car-tools>=2.5.4\n",
            "  Downloading trec_car_tools-2.5.4-py3-none-any.whl (8.1 kB)\n",
            "Collecting warc3-wet>=0.2.3\n",
            "  Downloading warc3_wet-0.2.3-py3-none-any.whl (13 kB)\n",
            "Collecting warc3-wet-clueweb09>=0.2.5\n",
            "  Downloading warc3-wet-clueweb09-0.2.5.tar.gz (17 kB)\n",
            "Collecting zlib-state>=0.1.3\n",
            "  Downloading zlib_state-0.1.3-cp37-cp37m-manylinux2010_x86_64.whl (72 kB)\n",
            "\u001b[K     |████████████████████████████████| 72 kB 1.1 MB/s \n",
            "\u001b[?25hCollecting lxml>=4.5.2\n",
            "  Downloading lxml-4.6.4-cp37-cp37m-manylinux_2_17_x86_64.manylinux2014_x86_64.manylinux_2_24_x86_64.whl (6.3 MB)\n",
            "\u001b[K     |████████████████████████████████| 6.3 MB 35.2 MB/s \n",
            "\u001b[?25hCollecting pyautocorpus>=0.1.1\n",
            "  Downloading pyautocorpus-0.1.6-cp37-cp37m-manylinux_2_12_x86_64.manylinux2010_x86_64.whl (294 kB)\n",
            "\u001b[K     |████████████████████████████████| 294 kB 50.5 MB/s \n",
            "\u001b[?25hCollecting ijson>=3.1.3\n",
            "  Downloading ijson-3.1.4-cp37-cp37m-manylinux2010_x86_64.whl (126 kB)\n",
            "\u001b[K     |████████████████████████████████| 126 kB 47.9 MB/s \n",
            "\u001b[?25hRequirement already satisfied: beautifulsoup4>=4.4.1 in /usr/local/lib/python3.7/dist-packages (from ir_datasets>=0.3.2->python-terrier) (4.6.3)\n",
            "Collecting pytrec-eval-terrier==0.5.1\n",
            "  Downloading pytrec_eval_terrier-0.5.1-cp37-cp37m-manylinux2010_x86_64.whl (291 kB)\n",
            "\u001b[K     |████████████████████████████████| 291 kB 50.4 MB/s \n",
            "\u001b[?25hCollecting cwl-eval>=1.0.10\n",
            "  Downloading cwl-eval-1.0.10.tar.gz (31 kB)\n",
            "Requirement already satisfied: cython in /usr/local/lib/python3.7/dist-packages (from pyjnius~=1.3.0->python-terrier) (0.29.24)\n",
            "Requirement already satisfied: six>=1.7.0 in /usr/local/lib/python3.7/dist-packages (from pyjnius~=1.3.0->python-terrier) (1.15.0)\n",
            "Requirement already satisfied: urllib3!=1.25.0,!=1.25.1,<1.26,>=1.21.1 in /usr/local/lib/python3.7/dist-packages (from requests->python-terrier) (1.24.3)\n",
            "Requirement already satisfied: chardet<4,>=3.0.2 in /usr/local/lib/python3.7/dist-packages (from requests->python-terrier) (3.0.4)\n",
            "Requirement already satisfied: idna<3,>=2.5 in /usr/local/lib/python3.7/dist-packages (from requests->python-terrier) (2.10)\n",
            "Requirement already satisfied: certifi>=2017.4.17 in /usr/local/lib/python3.7/dist-packages (from requests->python-terrier) (2021.10.8)\n",
            "Collecting cbor>=1.0.0\n",
            "  Downloading cbor-1.0.0.tar.gz (20 kB)\n",
            "Requirement already satisfied: heapdict in /usr/local/lib/python3.7/dist-packages (from chest->python-terrier) (1.0.1)\n",
            "Requirement already satisfied: packaging in /usr/local/lib/python3.7/dist-packages (from deprecation->python-terrier) (21.3)\n",
            "Requirement already satisfied: MarkupSafe>=0.23 in /usr/local/lib/python3.7/dist-packages (from jinja2->python-terrier) (2.0.1)\n",
            "Collecting multiset<3.0,>=2.0\n",
            "  Downloading multiset-2.1.1-py2.py3-none-any.whl (8.8 kB)\n",
            "Collecting typish>=1.7.0\n",
            "  Downloading typish-1.9.3-py3-none-any.whl (45 kB)\n",
            "\u001b[K     |████████████████████████████████| 45 kB 3.0 MB/s \n",
            "\u001b[?25hRequirement already satisfied: pyparsing!=3.0.5,>=2.0.2 in /usr/local/lib/python3.7/dist-packages (from packaging->deprecation->python-terrier) (3.0.6)\n",
            "Requirement already satisfied: pytz>=2017.2 in /usr/local/lib/python3.7/dist-packages (from pandas->python-terrier) (2018.9)\n",
            "Requirement already satisfied: python-dateutil>=2.7.3 in /usr/local/lib/python3.7/dist-packages (from pandas->python-terrier) (2.8.2)\n",
            "Requirement already satisfied: scikit-learn in /usr/local/lib/python3.7/dist-packages (from sklearn->python-terrier) (1.0.1)\n",
            "Requirement already satisfied: threadpoolctl>=2.0.0 in /usr/local/lib/python3.7/dist-packages (from scikit-learn->sklearn->python-terrier) (3.0.0)\n",
            "Requirement already satisfied: patsy>=0.4.0 in /usr/local/lib/python3.7/dist-packages (from statsmodels->python-terrier) (0.5.2)\n",
            "Building wheels for collected packages: python-terrier, ir-measures, cwl-eval, cbor, warc3-wet-clueweb09, chest, wget\n",
            "  Building wheel for python-terrier (setup.py) ... \u001b[?25l\u001b[?25hdone\n",
            "  Created wheel for python-terrier: filename=python_terrier-0.7.1-py3-none-any.whl size=102452 sha256=183805a12129f515c995289fb9a84571ef8454f8d42eec190043b9e54dc1029f\n",
            "  Stored in directory: /root/.cache/pip/wheels/c0/9a/c8/1c2d9ec6a1494bb54f47e0d2627b5ed7b2de704b66723d3417\n",
            "  Building wheel for ir-measures (setup.py) ... \u001b[?25l\u001b[?25hdone\n",
            "  Created wheel for ir-measures: filename=ir_measures-0.2.1-py3-none-any.whl size=46421 sha256=2b5afae2aeaff622da182f1c1b0e1eeff8dde06cd43521c05533fc5a150af7dd\n",
            "  Stored in directory: /root/.cache/pip/wheels/38/a4/34/d0b2e6c329f3d0fab3d3c3ed296b963cee47872811acdc3628\n",
            "  Building wheel for cwl-eval (setup.py) ... \u001b[?25l\u001b[?25hdone\n",
            "  Created wheel for cwl-eval: filename=cwl_eval-1.0.10-py3-none-any.whl size=37795 sha256=79f915fc0e32eeac19d60aa44188451cb2507932cc0d1257cd6fbc08cf00d138\n",
            "  Stored in directory: /root/.cache/pip/wheels/ff/e9/ff/d2b6d72d9feb0d0b1b11aacfaf5cd866717034615c2d194093\n",
            "  Building wheel for cbor (setup.py) ... \u001b[?25l\u001b[?25hdone\n",
            "  Created wheel for cbor: filename=cbor-1.0.0-cp37-cp37m-linux_x86_64.whl size=51314 sha256=9dd459e8adc0e6b4075ff1678a47e7377928fe2cbdba64c1e0a22b779e1463aa\n",
            "  Stored in directory: /root/.cache/pip/wheels/19/77/49/c9c2c8dc5848502e606e8579d0bbda18b850fb056a6c62239d\n",
            "  Building wheel for warc3-wet-clueweb09 (setup.py) ... \u001b[?25l\u001b[?25hdone\n",
            "  Created wheel for warc3-wet-clueweb09: filename=warc3_wet_clueweb09-0.2.5-py3-none-any.whl size=18921 sha256=6c600af7e7cc0a714bb938e65a3df9eff12c399bd1e528d4aa7579b56b52c531\n",
            "  Stored in directory: /root/.cache/pip/wheels/42/d4/3c/7c2b0c3d400ad744e4db69f2fde166655da2ed2198bfc02db6\n",
            "  Building wheel for chest (setup.py) ... \u001b[?25l\u001b[?25hdone\n",
            "  Created wheel for chest: filename=chest-0.2.3-py3-none-any.whl size=7632 sha256=3301c9d5704ca9f63230190d7ee14519718c1b3cd290a93fea8180f6358e5b2d\n",
            "  Stored in directory: /root/.cache/pip/wheels/fc/f5/b9/c436e11300809e6b40d46a5d2592fb0bff89e0712f2e878dc7\n",
            "  Building wheel for wget (setup.py) ... \u001b[?25l\u001b[?25hdone\n",
            "  Created wheel for wget: filename=wget-3.2-py3-none-any.whl size=9672 sha256=cc0a3ac60a457b0fe546f1b575536280ba9ee16f51915eb20f5212902e635ce1\n",
            "  Stored in directory: /root/.cache/pip/wheels/a1/b6/7c/0e63e34eb06634181c63adacca38b79ff8f35c37e3c13e3c02\n",
            "Successfully built python-terrier ir-measures cwl-eval cbor warc3-wet-clueweb09 chest wget\n",
            "Installing collected packages: cbor, zlib-state, warc3-wet-clueweb09, warc3-wet, typish, trec-car-tools, pyyaml, pytrec-eval-terrier, pyautocorpus, multiset, lz4, lxml, ijson, deprecation, cwl-eval, wget, pyjnius, nptyping, matchpy, ir-measures, ir-datasets, chest, python-terrier\n",
            "  Attempting uninstall: pyyaml\n",
            "    Found existing installation: PyYAML 3.13\n",
            "    Uninstalling PyYAML-3.13:\n",
            "      Successfully uninstalled PyYAML-3.13\n",
            "  Attempting uninstall: lxml\n",
            "    Found existing installation: lxml 4.2.6\n",
            "    Uninstalling lxml-4.2.6:\n",
            "      Successfully uninstalled lxml-4.2.6\n",
            "Successfully installed cbor-1.0.0 chest-0.2.3 cwl-eval-1.0.10 deprecation-2.1.0 ijson-3.1.4 ir-datasets-0.5.0 ir-measures-0.2.1 lxml-4.6.4 lz4-3.1.10 matchpy-0.5.5 multiset-2.1.1 nptyping-1.4.4 pyautocorpus-0.1.6 pyjnius-1.3.0 python-terrier-0.7.1 pytrec-eval-terrier-0.5.1 pyyaml-6.0 trec-car-tools-2.5.4 typish-1.9.3 warc3-wet-0.2.3 warc3-wet-clueweb09-0.2.5 wget-3.2 zlib-state-0.1.3\n"
          ]
        }
      ]
    },
    {
      "cell_type": "code",
      "metadata": {
        "id": "_ls4i18wEduE"
      },
      "source": [
        "import pyterrier as pt\n",
        "import pandas as pd\n",
        "import os\n",
        "from pyterrier.measures import *\n",
        "import re"
      ],
      "execution_count": null,
      "outputs": []
    },
    {
      "cell_type": "code",
      "metadata": {
        "id": "DJ9OxerXCNbU"
      },
      "source": [
        "foodresults = pd.read_csv(\"foodresults.csv\", encoding=\"latin-1\")\n",
        "index_result = pd.read_csv(\"index_result.csv\")\n",
        "df = pd.read_csv(\"dataset_with_relevance.csv\",encoding=\"latin-1\")"
      ],
      "execution_count": null,
      "outputs": []
    },
    {
      "cell_type": "code",
      "metadata": {
        "colab": {
          "base_uri": "https://localhost:8080/"
        },
        "id": "77G6YvkmFXfm",
        "outputId": "c33f5776-fe34-4079-effc-76a832811740"
      },
      "source": [
        "if not pt.started():\n",
        "  pt.init()"
      ],
      "execution_count": null,
      "outputs": [
        {
          "output_type": "stream",
          "name": "stdout",
          "text": [
            "terrier-assemblies 5.6 jar-with-dependencies not found, downloading to /root/.pyterrier...\n",
            "Done\n",
            "terrier-python-helper 0.0.6 jar not found, downloading to /root/.pyterrier...\n",
            "Done\n",
            "PyTerrier 0.7.1 has loaded Terrier 5.6 (built by craigmacdonald on 2021-09-17 13:27)\n"
          ]
        }
      ]
    },
    {
      "cell_type": "code",
      "metadata": {
        "colab": {
          "base_uri": "https://localhost:8080/",
          "height": 35
        },
        "id": "Wf1_SJz6J7Hm",
        "outputId": "b3924a48-e0d4-4be9-c090-f52de20aeb31"
      },
      "source": [
        "import re\n",
        "s=\"sdfgfs$%$#%#$9998 sdfg\"\n",
        "word1 = \" \".join(re.findall(\"[a-zA-Z]+\", s))\n",
        "word1"
      ],
      "execution_count": null,
      "outputs": [
        {
          "output_type": "execute_result",
          "data": {
            "application/vnd.google.colaboratory.intrinsic+json": {
              "type": "string"
            },
            "text/plain": [
              "'sdfgfs sdfg'"
            ]
          },
          "metadata": {},
          "execution_count": 5
        }
      ]
    },
    {
      "cell_type": "code",
      "metadata": {
        "id": "uLoe_-3vGXJ7"
      },
      "source": [
        "data=[]\n",
        "for index,row in df.iterrows():\n",
        "  query = \" \".join(re.findall(\"[a-zA-Z]+\", row[\"query\"]))\n",
        "  recipe_id = row[\"recipe_id\"]\n",
        "  recipe_name = \" \".join(re.findall(\"[a-zA-Z]+\", row[\"recipe_name\"]))\n",
        "  Relevance = row[\"Relevance\"]\n",
        "  ingredients = \" \".join(re.findall(\"[a-zA-Z]+\", str(row[\"ingredients\"])))\n",
        "  recipe = \" \".join(re.findall(\"[a-zA-Z]+\", row[\"recipe\"]))\n",
        "  rate = row[\"rate\"]\n",
        "  views = row[\"views\"]\n",
        "  description = \" \".join(re.findall(\"[a-zA-Z]+\", row[\"description\"]))\n",
        "  keywords = \" \".join(re.findall(\"[a-zA-Z]+\", str(row[\"keywords\"])))\n",
        "  calories = row[\"calories\"]\n",
        "  fatContent = row[\"fatContent\"]\n",
        "  proteinContent = row[\"proteinContent\"]\n",
        "  data.append([query,recipe_id,recipe_name,Relevance,ingredients,recipe,\n",
        "               rate,views,description,keywords,calories,fatContent,proteinContent])\n",
        "new_df = pd.DataFrame(data,columns=[\"query\",\"docno\",\"recipe_name\",\"Relevance\",\"ingredients\",\"recipe\",\n",
        "               \"rate\",\"views\",\"description\",\"keywords\",\"calories\",\"fatContent\",\"proteinContent\"])"
      ],
      "execution_count": null,
      "outputs": []
    },
    {
      "cell_type": "code",
      "metadata": {
        "colab": {
          "base_uri": "https://localhost:8080/",
          "height": 619
        },
        "id": "MlYOs3zceo08",
        "outputId": "2c3c12d5-6185-497b-daea-619451230ea9"
      },
      "source": [
        "new_df.head(6)"
      ],
      "execution_count": null,
      "outputs": [
        {
          "output_type": "execute_result",
          "data": {
            "text/html": [
              "<div>\n",
              "<style scoped>\n",
              "    .dataframe tbody tr th:only-of-type {\n",
              "        vertical-align: middle;\n",
              "    }\n",
              "\n",
              "    .dataframe tbody tr th {\n",
              "        vertical-align: top;\n",
              "    }\n",
              "\n",
              "    .dataframe thead th {\n",
              "        text-align: right;\n",
              "    }\n",
              "</style>\n",
              "<table border=\"1\" class=\"dataframe\">\n",
              "  <thead>\n",
              "    <tr style=\"text-align: right;\">\n",
              "      <th></th>\n",
              "      <th>query</th>\n",
              "      <th>docno</th>\n",
              "      <th>recipe_name</th>\n",
              "      <th>Relevance</th>\n",
              "      <th>ingredients</th>\n",
              "      <th>recipe</th>\n",
              "      <th>rate</th>\n",
              "      <th>views</th>\n",
              "      <th>description</th>\n",
              "      <th>keywords</th>\n",
              "      <th>calories</th>\n",
              "      <th>fatContent</th>\n",
              "      <th>proteinContent</th>\n",
              "    </tr>\n",
              "  </thead>\n",
              "  <tbody>\n",
              "    <tr>\n",
              "      <th>0</th>\n",
              "      <td>tomato</td>\n",
              "      <td>6492</td>\n",
              "      <td>Macaroni and Tomatoes</td>\n",
              "      <td>5</td>\n",
              "      <td>large potatoes teaspoon salt eggs lightly beat...</td>\n",
              "      <td>Scrub potatoes well but do not peel In a sauce...</td>\n",
              "      <td>4.5</td>\n",
              "      <td>6</td>\n",
              "      <td>Make and share this Potato Plum Dumplings reci...</td>\n",
              "      <td>Vegetable Hungarian European Low Protein Healt...</td>\n",
              "      <td>270.6</td>\n",
              "      <td>8.9</td>\n",
              "      <td>5.8</td>\n",
              "    </tr>\n",
              "    <tr>\n",
              "      <th>1</th>\n",
              "      <td>tomato</td>\n",
              "      <td>50060</td>\n",
              "      <td>Tofu Stuffed Cherry Tomatoes</td>\n",
              "      <td>5</td>\n",
              "      <td>onion diced garlic cloves minced carrot diced ...</td>\n",
              "      <td>Sweat onion and garlic in small amount of oil ...</td>\n",
              "      <td>0.0</td>\n",
              "      <td>0</td>\n",
              "      <td>Creamy fat free low cal and a serving of veggi...</td>\n",
              "      <td>Lactose Free Low Protein Low Cholesterol Egg F...</td>\n",
              "      <td>107.6</td>\n",
              "      <td>0.8</td>\n",
              "      <td>3.8</td>\n",
              "    </tr>\n",
              "    <tr>\n",
              "      <th>2</th>\n",
              "      <td>tomato</td>\n",
              "      <td>54375</td>\n",
              "      <td>Canned Tomatoes Vine Ripened Tomatoes in Tomat...</td>\n",
              "      <td>5</td>\n",
              "      <td>butter recipe cake mix baked in a greased x cm...</td>\n",
              "      <td>For best results bake the cake the day before ...</td>\n",
              "      <td>0.0</td>\n",
              "      <td>0</td>\n",
              "      <td>Make and share this Lamingtons recipe from Foo...</td>\n",
              "      <td>Low Protein Low Cholesterol Healthy Kid Friend...</td>\n",
              "      <td>179.2</td>\n",
              "      <td>3.1</td>\n",
              "      <td>1.3</td>\n",
              "    </tr>\n",
              "    <tr>\n",
              "      <th>3</th>\n",
              "      <td>tomato</td>\n",
              "      <td>11958</td>\n",
              "      <td>Chilli Tomato Sauce Tomato Salsa</td>\n",
              "      <td>5</td>\n",
              "      <td>large mushrooms cup breadcrumbs cup parmesan c...</td>\n",
              "      <td>clean mushrooms with damp cloth remove stems a...</td>\n",
              "      <td>5.0</td>\n",
              "      <td>1</td>\n",
              "      <td>Make and share this Moms Stuffed Mushrooms rec...</td>\n",
              "      <td>Healthy Mins For Large Groups</td>\n",
              "      <td>16.8</td>\n",
              "      <td>0.7</td>\n",
              "      <td>1.4</td>\n",
              "    </tr>\n",
              "    <tr>\n",
              "      <th>4</th>\n",
              "      <td>tomato</td>\n",
              "      <td>51985</td>\n",
              "      <td>Cherry Tomato Planets</td>\n",
              "      <td>5</td>\n",
              "      <td>teaspoons sesame oil tablespoons gingerroot sh...</td>\n",
              "      <td>Place the sesame oil in a hot wok with the gin...</td>\n",
              "      <td>0.0</td>\n",
              "      <td>0</td>\n",
              "      <td>This is from the Donna Hay cookbook quot Cooki...</td>\n",
              "      <td>Asian Low Protein Low Cholesterol Healthy Mins...</td>\n",
              "      <td>86.8</td>\n",
              "      <td>2.3</td>\n",
              "      <td>0.5</td>\n",
              "    </tr>\n",
              "    <tr>\n",
              "      <th>5</th>\n",
              "      <td>tomato</td>\n",
              "      <td>16912</td>\n",
              "      <td>BLANCHING TOMATOES for COOKING amp CANNING</td>\n",
              "      <td>4</td>\n",
              "      <td>ounces large shrimp peeled and deveined tables...</td>\n",
              "      <td>Heat the oil in a large heavy bottomed skillet...</td>\n",
              "      <td>0.0</td>\n",
              "      <td>0</td>\n",
              "      <td>Make and share this Cilantro Lime Shrimp recip...</td>\n",
              "      <td>Very Low Carbs Healthy Mins</td>\n",
              "      <td>165.6</td>\n",
              "      <td>5.4</td>\n",
              "      <td>24.6</td>\n",
              "    </tr>\n",
              "  </tbody>\n",
              "</table>\n",
              "</div>"
            ],
            "text/plain": [
              "    query  docno  ... fatContent  proteinContent\n",
              "0  tomato   6492  ...        8.9             5.8\n",
              "1  tomato  50060  ...        0.8             3.8\n",
              "2  tomato  54375  ...        3.1             1.3\n",
              "3  tomato  11958  ...        0.7             1.4\n",
              "4  tomato  51985  ...        2.3             0.5\n",
              "5  tomato  16912  ...        5.4            24.6\n",
              "\n",
              "[6 rows x 13 columns]"
            ]
          },
          "metadata": {},
          "execution_count": 7
        }
      ]
    },
    {
      "cell_type": "code",
      "metadata": {
        "id": "lo0gsytCgQG5"
      },
      "source": [
        "\n",
        "data=[]\n",
        "foodresults[\"docno\"] = range(0,len(foodresults))\n",
        "foodresults[\"recipe_id\"] = range(0,len(foodresults))\n",
        "foodresults.head(5)\n",
        "for index,row in foodresults.iterrows():\n",
        "  docno = \"d\"+str(row[\"docno\"])\n",
        "  recipe_id = str(row[\"recipe_id\"])\n",
        "  recipe_name = \" \".join(re.findall(\"[a-zA-Z]+\", row[\"name\"]))\n",
        "  ingredients = \" \".join(re.findall(\"[a-zA-Z]+\", str(row[\"ingredients\"])))\n",
        "  recipe = \" \".join(re.findall(\"[a-zA-Z]+\", str(row[\"recipe\"])))\n",
        "  rate = str(int(row[\"rate\"]))\n",
        "  views = str(int(row[\"views\"]))\n",
        "  description = \" \".join(re.findall(\"[a-zA-Z]+\", row[\"description\"]))\n",
        "  keywords = \" \".join(re.findall(\"[a-zA-Z]+\", str(row[\"keywords\"])))\n",
        "  calories = row[\"calories\"]\n",
        "  fatContent = row[\"fatContent\"]\n",
        "  proteinContent = row[\"proteinContent\"]\n",
        "  data.append([recipe_id,recipe_name,ingredients,recipe,\n",
        "               rate,views,description,keywords,calories,fatContent,proteinContent])\n",
        "whole_df = pd.DataFrame(data,columns=[\"docno\",\"recipe_name\",\"ingredients\",\"recipe\",\n",
        "               \"rate\",\"views\",\"description\",\"keywords\",\"calories\",\"fatContent\",\"proteinContent\"])"
      ],
      "execution_count": null,
      "outputs": []
    },
    {
      "cell_type": "code",
      "metadata": {
        "colab": {
          "base_uri": "https://localhost:8080/",
          "height": 397
        },
        "id": "Z7rc69D_Qlg1",
        "outputId": "68c68986-526f-4b56-b19c-a4ad0668fb0c"
      },
      "source": [
        "whole_df.head(5)"
      ],
      "execution_count": null,
      "outputs": [
        {
          "output_type": "execute_result",
          "data": {
            "text/html": [
              "<div>\n",
              "<style scoped>\n",
              "    .dataframe tbody tr th:only-of-type {\n",
              "        vertical-align: middle;\n",
              "    }\n",
              "\n",
              "    .dataframe tbody tr th {\n",
              "        vertical-align: top;\n",
              "    }\n",
              "\n",
              "    .dataframe thead th {\n",
              "        text-align: right;\n",
              "    }\n",
              "</style>\n",
              "<table border=\"1\" class=\"dataframe\">\n",
              "  <thead>\n",
              "    <tr style=\"text-align: right;\">\n",
              "      <th></th>\n",
              "      <th>docno</th>\n",
              "      <th>recipe_name</th>\n",
              "      <th>ingredients</th>\n",
              "      <th>recipe</th>\n",
              "      <th>rate</th>\n",
              "      <th>views</th>\n",
              "      <th>description</th>\n",
              "      <th>keywords</th>\n",
              "      <th>calories</th>\n",
              "      <th>fatContent</th>\n",
              "      <th>proteinContent</th>\n",
              "    </tr>\n",
              "  </thead>\n",
              "  <tbody>\n",
              "    <tr>\n",
              "      <th>0</th>\n",
              "      <td>0</td>\n",
              "      <td>Chinese Fried Rice</td>\n",
              "      <td>cup finely chopped onion tablespoons oil egg l...</td>\n",
              "      <td>Heat tbsp oil in wok add chopped onions and st...</td>\n",
              "      <td>5</td>\n",
              "      <td>541</td>\n",
              "      <td>This Chinese fried rice has the flavor those o...</td>\n",
              "      <td>Pork Poultry Rice Meat Chinese Asian Low Chole...</td>\n",
              "      <td>497.8</td>\n",
              "      <td>16.3</td>\n",
              "      <td>22.3</td>\n",
              "    </tr>\n",
              "    <tr>\n",
              "      <th>1</th>\n",
              "      <td>1</td>\n",
              "      <td>Perfect Pork Tenderloin</td>\n",
              "      <td>lb boneless pork tenderloin salt and pepper dr...</td>\n",
              "      <td>NOTE nbsp The success of this cooking method w...</td>\n",
              "      <td>5</td>\n",
              "      <td>434</td>\n",
              "      <td>My way to cook a pork tenderloin or a boneless...</td>\n",
              "      <td>Meat Very Low Carbs High Protein Healthy High ...</td>\n",
              "      <td>136.2</td>\n",
              "      <td>4.0</td>\n",
              "      <td>23.4</td>\n",
              "    </tr>\n",
              "    <tr>\n",
              "      <th>2</th>\n",
              "      <td>2</td>\n",
              "      <td>Pulled Pork Crock Pot</td>\n",
              "      <td>lbs pork roast shoulder or butt large onions c...</td>\n",
              "      <td>Slice one onion and place in crock pot Put in ...</td>\n",
              "      <td>5</td>\n",
              "      <td>642</td>\n",
              "      <td>I found this pulled pork recipe years ago and ...</td>\n",
              "      <td>Meat Healthy Beginner Cook Easy</td>\n",
              "      <td>335.1</td>\n",
              "      <td>6.9</td>\n",
              "      <td>40.2</td>\n",
              "    </tr>\n",
              "    <tr>\n",
              "      <th>3</th>\n",
              "      <td>3</td>\n",
              "      <td>The Most Wonderful Gingerbread Cookies</td>\n",
              "      <td>cups all purpose flour teaspoons baking powder...</td>\n",
              "      <td>In a small bowl whisk together flour baking po...</td>\n",
              "      <td>4</td>\n",
              "      <td>559</td>\n",
              "      <td>This is my very favorite gingerbread cookie re...</td>\n",
              "      <td>Cookie Brownie Healthy Christmas Oven Hours</td>\n",
              "      <td>134.2</td>\n",
              "      <td>3.2</td>\n",
              "      <td>1.9</td>\n",
              "    </tr>\n",
              "    <tr>\n",
              "      <th>4</th>\n",
              "      <td>4</td>\n",
              "      <td>Restaurant Teriyaki Sauce</td>\n",
              "      <td>cup soy sauce cup water teaspoon ground ginger...</td>\n",
              "      <td>Mix all but cornstarch and c water in a sauce ...</td>\n",
              "      <td>5</td>\n",
              "      <td>341</td>\n",
              "      <td>You know the nice sweet thick Teriyaki sauce y...</td>\n",
              "      <td>Low Protein Low Cholesterol Healthy Mins Easy</td>\n",
              "      <td>290.5</td>\n",
              "      <td>0.1</td>\n",
              "      <td>5.3</td>\n",
              "    </tr>\n",
              "  </tbody>\n",
              "</table>\n",
              "</div>"
            ],
            "text/plain": [
              "  docno                             recipe_name  ... fatContent proteinContent\n",
              "0     0                      Chinese Fried Rice  ...       16.3           22.3\n",
              "1     1                 Perfect Pork Tenderloin  ...        4.0           23.4\n",
              "2     2                   Pulled Pork Crock Pot  ...        6.9           40.2\n",
              "3     3  The Most Wonderful Gingerbread Cookies  ...        3.2            1.9\n",
              "4     4               Restaurant Teriyaki Sauce  ...        0.1            5.3\n",
              "\n",
              "[5 rows x 11 columns]"
            ]
          },
          "metadata": {},
          "execution_count": 64
        }
      ]
    },
    {
      "cell_type": "code",
      "metadata": {
        "colab": {
          "base_uri": "https://localhost:8080/",
          "height": 35
        },
        "id": "ij4RwCqGlPsP",
        "outputId": "3640d311-c9ef-4b42-b699-057bed868bb5"
      },
      "source": [
        "whole_index_dir = \"./whole_docs_index\"\n",
        "whole_indexer = pt.DFIndexer(whole_index_dir, overwrite=True)\n",
        "whole_index_ref = whole_indexer.index(whole_df[\"recipe\"], whole_df[\"docno\"],\n",
        "                    whole_df[\"recipe_name\"], whole_df[\"keywords\"], \n",
        "                    whole_df[\"description\"], whole_df[\"ingredients\"],\n",
        "                    whole_df[\"rate\"],whole_df[\"views\"])\n",
        "whole_index_ref.toString()"
      ],
      "execution_count": null,
      "outputs": [
        {
          "output_type": "execute_result",
          "data": {
            "application/vnd.google.colaboratory.intrinsic+json": {
              "type": "string"
            },
            "text/plain": [
              "'./whole_docs_index/data.properties'"
            ]
          },
          "metadata": {},
          "execution_count": 65
        }
      ]
    },
    {
      "cell_type": "code",
      "metadata": {
        "id": "1M-X-9czwHIz"
      },
      "source": [
        "whole_index = pt.IndexFactory.of(whole_index_ref)"
      ],
      "execution_count": null,
      "outputs": []
    },
    {
      "cell_type": "code",
      "metadata": {
        "id": "lk_qO1e3mkx-"
      },
      "source": [
        "topics = pd.read_csv(\"topics.csv\")\n",
        "qrels = pd.read_csv(\"qrel.csv\")\n",
        "qrels = qrels.drop(columns=[\"iteration\"])"
      ],
      "execution_count": null,
      "outputs": []
    },
    {
      "cell_type": "code",
      "metadata": {
        "colab": {
          "base_uri": "https://localhost:8080/",
          "height": 206
        },
        "id": "rpeHL_iQ2idW",
        "outputId": "786864f7-0db5-45b5-99d1-15e33637a33f"
      },
      "source": [
        "topics.head(5)"
      ],
      "execution_count": null,
      "outputs": [
        {
          "output_type": "execute_result",
          "data": {
            "text/html": [
              "<div>\n",
              "<style scoped>\n",
              "    .dataframe tbody tr th:only-of-type {\n",
              "        vertical-align: middle;\n",
              "    }\n",
              "\n",
              "    .dataframe tbody tr th {\n",
              "        vertical-align: top;\n",
              "    }\n",
              "\n",
              "    .dataframe thead th {\n",
              "        text-align: right;\n",
              "    }\n",
              "</style>\n",
              "<table border=\"1\" class=\"dataframe\">\n",
              "  <thead>\n",
              "    <tr style=\"text-align: right;\">\n",
              "      <th></th>\n",
              "      <th>qid</th>\n",
              "      <th>query</th>\n",
              "    </tr>\n",
              "  </thead>\n",
              "  <tbody>\n",
              "    <tr>\n",
              "      <th>0</th>\n",
              "      <td>1</td>\n",
              "      <td>apple</td>\n",
              "    </tr>\n",
              "    <tr>\n",
              "      <th>1</th>\n",
              "      <td>2</td>\n",
              "      <td>bacon</td>\n",
              "    </tr>\n",
              "    <tr>\n",
              "      <th>2</th>\n",
              "      <td>3</td>\n",
              "      <td>baking soda</td>\n",
              "    </tr>\n",
              "    <tr>\n",
              "      <th>3</th>\n",
              "      <td>4</td>\n",
              "      <td>barbecue ribs</td>\n",
              "    </tr>\n",
              "    <tr>\n",
              "      <th>4</th>\n",
              "      <td>5</td>\n",
              "      <td>beef</td>\n",
              "    </tr>\n",
              "  </tbody>\n",
              "</table>\n",
              "</div>"
            ],
            "text/plain": [
              "   qid          query\n",
              "0    1          apple\n",
              "1    2          bacon\n",
              "2    3    baking soda\n",
              "3    4  barbecue ribs\n",
              "4    5           beef"
            ]
          },
          "metadata": {},
          "execution_count": 55
        }
      ]
    },
    {
      "cell_type": "code",
      "metadata": {
        "id": "dMH63H53vqUd"
      },
      "source": [
        "topics[\"qid\"] = topics[\"qid\"].astype(str)"
      ],
      "execution_count": null,
      "outputs": []
    },
    {
      "cell_type": "code",
      "metadata": {
        "colab": {
          "base_uri": "https://localhost:8080/"
        },
        "id": "mE1ZpLmI2wJ3",
        "outputId": "af2d1822-5746-4bf4-bf01-1e180e0168a7"
      },
      "source": [
        "topics.info()"
      ],
      "execution_count": null,
      "outputs": [
        {
          "output_type": "stream",
          "name": "stdout",
          "text": [
            "<class 'pandas.core.frame.DataFrame'>\n",
            "RangeIndex: 30 entries, 0 to 29\n",
            "Data columns (total 2 columns):\n",
            " #   Column  Non-Null Count  Dtype \n",
            "---  ------  --------------  ----- \n",
            " 0   qid     30 non-null     object\n",
            " 1   query   30 non-null     object\n",
            "dtypes: object(2)\n",
            "memory usage: 608.0+ bytes\n"
          ]
        }
      ]
    },
    {
      "cell_type": "code",
      "metadata": {
        "id": "rjCkGGDn1-iB"
      },
      "source": [
        "qrels[\"qid\"] = qrels[\"qid\"].astype(str)\n",
        "qrels[\"docno\"] = qrels[\"docno\"].astype(str)"
      ],
      "execution_count": null,
      "outputs": []
    },
    {
      "cell_type": "markdown",
      "metadata": {
        "id": "O_J2PR64be88"
      },
      "source": [
        "**Machine Learning**"
      ]
    },
    {
      "cell_type": "code",
      "metadata": {
        "id": "zKsh_K9ObldV"
      },
      "source": [
        "# constants\n",
        "RANK_CUTOFF = 100\n"
      ],
      "execution_count": null,
      "outputs": []
    },
    {
      "cell_type": "code",
      "metadata": {
        "id": "SGVtt1ITfnC6"
      },
      "source": [
        "bm25 = pt.BatchRetrieve(whole_index, wmodel=\"BM25\")\n",
        "tfidf = pt.BatchRetrieve(whole_index, wmodel=\"TF_IDF\")\n",
        "sdm = pt.rewrite.SDM()\n",
        "qe = pt.rewrite.Bo1QueryExpansion(whole_index)\n",
        "query_expansion = bm25>>qe>>bm25\n",
        "ltr_feats_new1 = (bm25 % RANK_CUTOFF) >> pt.text.get_text(whole_index, [\"recipe_name\",\"keywords\",\"description\",\"ingredients\",\"rate\",\"views\"]) >> (\n",
        "    pt.transformer.IdentityTransformer()\n",
        "    ** \n",
        "    (pt.text.scorer(body_attr=\"recipe_name\", takes='docs', wmodel='BM25'))\n",
        "    **\n",
        "    (pt.text.scorer(body_attr=\"keywords\", takes='docs', wmodel='BM25'))\n",
        "    ** \n",
        "    (pt.text.scorer(body_attr=\"description\", takes='docs', wmodel='BM25'))\n",
        "    ** \n",
        "    (pt.text.scorer(body_attr=\"ingredients\", takes='docs', wmodel='BM25'))\n",
        "    **\n",
        "    pt.apply.doc_score(lambda row: int(row[\"rate\"]))\n",
        "    **\n",
        "    pt.apply.doc_score(lambda row: int(row[\"views\"]))\n",
        "    **\n",
        "    query_expansion\n",
        ")\n",
        "# for reference, lets record the feature names here too\n",
        "fnames=[\"f1\",\"f2\"]"
      ],
      "execution_count": 83,
      "outputs": []
    },
    {
      "cell_type": "code",
      "metadata": {
        "id": "uDgiCIyNR265"
      },
      "source": [
        "SEED=42\n",
        "\n",
        "from sklearn.model_selection import train_test_split\n",
        "\n",
        "tr_va_topics, test_topics = train_test_split(topics, test_size=0.15, random_state=SEED)\n",
        "train_topics, valid_topics =  train_test_split(tr_va_topics, test_size=0.17, random_state=SEED)"
      ],
      "execution_count": 84,
      "outputs": []
    },
    {
      "cell_type": "code",
      "metadata": {
        "colab": {
          "base_uri": "https://localhost:8080/"
        },
        "id": "ZyeAVDJdT5OH",
        "outputId": "1c4451a4-0fad-41c4-f3ec-74686e5abc41"
      },
      "source": [
        "len(train_topics)"
      ],
      "execution_count": null,
      "outputs": [
        {
          "output_type": "execute_result",
          "data": {
            "text/plain": [
              "20"
            ]
          },
          "metadata": {},
          "execution_count": 34
        }
      ]
    },
    {
      "cell_type": "code",
      "metadata": {
        "colab": {
          "base_uri": "https://localhost:8080/"
        },
        "id": "gU-LEGqrT7kh",
        "outputId": "edc1505b-e9c9-418b-8d1b-f027fdf28322"
      },
      "source": [
        "len(test_topics)"
      ],
      "execution_count": null,
      "outputs": [
        {
          "output_type": "execute_result",
          "data": {
            "text/plain": [
              "5"
            ]
          },
          "metadata": {},
          "execution_count": 35
        }
      ]
    },
    {
      "cell_type": "code",
      "metadata": {
        "colab": {
          "base_uri": "https://localhost:8080/"
        },
        "id": "gHqtgr_DT-b2",
        "outputId": "68922782-8a20-417c-c10f-e9d9722cac68"
      },
      "source": [
        "len(valid_topics)"
      ],
      "execution_count": null,
      "outputs": [
        {
          "output_type": "execute_result",
          "data": {
            "text/plain": [
              "5"
            ]
          },
          "metadata": {},
          "execution_count": 36
        }
      ]
    },
    {
      "cell_type": "code",
      "metadata": {
        "colab": {
          "base_uri": "https://localhost:8080/"
        },
        "id": "t0hCNWD4vjZK",
        "outputId": "317f7841-2efa-4997-daf7-59f9aa66442d"
      },
      "source": [
        "from sklearn.ensemble import RandomForestRegressor\n",
        "pipeline = pt.FeaturesBatchRetrieve(whole_index, wmodel=\"BM25\", features=[\"WMODEL:Tf\"])\n",
        "rf = RandomForestRegressor(n_estimators=400, verbose=1, random_state=42, n_jobs=2)\n",
        "rf_pipe = ltr_feats_new1 >> pt.ltr.apply_learned_model(rf)\n",
        "%time rf_pipe.fit(train_topics, qrels)\n"
      ],
      "execution_count": 85,
      "outputs": [
        {
          "output_type": "stream",
          "name": "stdout",
          "text": [
            "19:52:29.967 [main] WARN org.terrier.querying.ApplyTermPipeline - The index has no termpipelines configuration, and no control configuration is found. Defaulting to global termpipelines configuration of 'Stopwords,PorterStemmer'. Set a termpipelines control to remove this warning.\n",
            "19:52:31.328 [main] WARN org.terrier.querying.ApplyTermPipeline - The index has no termpipelines configuration, and no control configuration is found. Defaulting to global termpipelines configuration of 'Stopwords,PorterStemmer'. Set a termpipelines control to remove this warning.\n",
            "19:52:32.862 [main] WARN org.terrier.querying.ApplyTermPipeline - The index has no termpipelines configuration, and no control configuration is found. Defaulting to global termpipelines configuration of 'Stopwords,PorterStemmer'. Set a termpipelines control to remove this warning.\n",
            "19:52:34.297 [main] WARN org.terrier.querying.ApplyTermPipeline - The index has no termpipelines configuration, and no control configuration is found. Defaulting to global termpipelines configuration of 'Stopwords,PorterStemmer'. Set a termpipelines control to remove this warning.\n"
          ]
        },
        {
          "output_type": "stream",
          "name": "stderr",
          "text": [
            "/usr/local/lib/python3.7/dist-packages/pyterrier/transformer.py:760: UserWarning: Got number of results different expected from ComposedPipeline(ComposedPipeline(BR(/content/whole_docs_index/data.properties,{'terrierql': 'on', 'parsecontrols': 'on', 'parseql': 'on', 'applypipeline': 'on', 'localmatching': 'on', 'filters': 'on', 'decorate': 'on', 'wmodel': 'BM25'},{'querying.processes': 'terrierql:TerrierQLParser,parsecontrols:TerrierQLToControls,parseql:TerrierQLToMatchingQueryTerms,matchopql:MatchingOpQLParser,applypipeline:ApplyTermPipeline,context_wmodel:org.terrier.python.WmodelFromContextProcess,localmatching:LocalManager$ApplyLocalMatching,qe:QueryExpansion,labels:org.terrier.learning.LabelDecorator,filters:LocalManager$PostFilterProcess,decorate:SimpleDecorateProcess', 'querying.postfilters': 'decorate:SimpleDecorate,site:SiteFilter,scope:Scope', 'querying.default.controls': 'wmodel:DPH,parsecontrols:on,parseql:on,applypipeline:on,terrierql:on,localmatching:on,filters:on,decorate:on', 'querying.allowed.controls': 'scope,qe,qemodel,start,end,site,scope,applypipeline', 'termpipelines': 'Stopwords,PorterStemmer'}), <pyterrier.rewrite.Bo1QueryExpansion object at 0x7fb0491b12d0>), BR(/content/whole_docs_index/data.properties,{'terrierql': 'on', 'parsecontrols': 'on', 'parseql': 'on', 'applypipeline': 'on', 'localmatching': 'on', 'filters': 'on', 'decorate': 'on', 'wmodel': 'BM25'},{'querying.processes': 'terrierql:TerrierQLParser,parsecontrols:TerrierQLToControls,parseql:TerrierQLToMatchingQueryTerms,matchopql:MatchingOpQLParser,applypipeline:ApplyTermPipeline,context_wmodel:org.terrier.python.WmodelFromContextProcess,localmatching:LocalManager$ApplyLocalMatching,qe:QueryExpansion,labels:org.terrier.learning.LabelDecorator,filters:LocalManager$PostFilterProcess,decorate:SimpleDecorateProcess', 'querying.postfilters': 'decorate:SimpleDecorate,site:SiteFilter,scope:Scope', 'querying.default.controls': 'wmodel:DPH,parsecontrols:on,parseql:on,applypipeline:on,terrierql:on,localmatching:on,filters:on,decorate:on', 'querying.allowed.controls': 'scope,qe,qemodel,start,end,site,scope,applypipeline', 'termpipelines': 'Stopwords,PorterStemmer'})), expected 2000 received 20000, feature scores for any missing documents be 0, extraneous documents will be removed\n",
            "  warn(\"Got number of results different expected from %s, expected %d received %d, feature scores for any missing documents be 0, extraneous documents will be removed\" % (repr(m), num_results, len(res)))\n",
            "[Parallel(n_jobs=2)]: Using backend ThreadingBackend with 2 concurrent workers.\n",
            "[Parallel(n_jobs=2)]: Done  46 tasks      | elapsed:    0.2s\n",
            "[Parallel(n_jobs=2)]: Done 196 tasks      | elapsed:    1.0s\n",
            "[Parallel(n_jobs=2)]: Done 400 out of 400 | elapsed:    2.1s finished\n"
          ]
        }
      ]
    },
    {
      "cell_type": "code",
      "metadata": {
        "colab": {
          "base_uri": "https://localhost:8080/"
        },
        "id": "HwEfo2SnUQGI",
        "outputId": "a62e95d4-1639-4e6e-d902-6934ed9e0a7b"
      },
      "source": [
        "import lightgbm as lgb\n",
        "\n",
        "# this configures LightGBM as LambdaMART\n",
        "lmart_l = lgb.LGBMRanker(\n",
        "    task=\"train\",\n",
        "    silent=False,\n",
        "    min_data_in_leaf=1,\n",
        "    min_sum_hessian_in_leaf=1,\n",
        "    max_bin=255,\n",
        "    num_leaves=31,\n",
        "    objective=\"lambdarank\",\n",
        "    metric=\"ndcg\",\n",
        "    ndcg_eval_at=[10],\n",
        "    ndcg_at=[10],\n",
        "    eval_at=[10],\n",
        "    learning_rate= .1,\n",
        "    importance_type=\"gain\",\n",
        "    num_iterations=100,\n",
        "    early_stopping_rounds=5\n",
        ")\n",
        "\n",
        "lmart_x_pipe = ltr_feats_new1 >> pt.ltr.apply_learned_model(lmart_l, form=\"ltr\", fit_kwargs={'eval_at':[10]})\n",
        "\n",
        "%time lmart_x_pipe.fit(train_topics, qrels, valid_topics, qrels)"
      ],
      "execution_count": 86,
      "outputs": [
        {
          "output_type": "stream",
          "name": "stdout",
          "text": [
            "19:52:53.795 [main] WARN org.terrier.querying.ApplyTermPipeline - The index has no termpipelines configuration, and no control configuration is found. Defaulting to global termpipelines configuration of 'Stopwords,PorterStemmer'. Set a termpipelines control to remove this warning.\n",
            "19:52:55.609 [main] WARN org.terrier.querying.ApplyTermPipeline - The index has no termpipelines configuration, and no control configuration is found. Defaulting to global termpipelines configuration of 'Stopwords,PorterStemmer'. Set a termpipelines control to remove this warning.\n",
            "19:52:57.158 [main] WARN org.terrier.querying.ApplyTermPipeline - The index has no termpipelines configuration, and no control configuration is found. Defaulting to global termpipelines configuration of 'Stopwords,PorterStemmer'. Set a termpipelines control to remove this warning.\n",
            "19:52:58.638 [main] WARN org.terrier.querying.ApplyTermPipeline - The index has no termpipelines configuration, and no control configuration is found. Defaulting to global termpipelines configuration of 'Stopwords,PorterStemmer'. Set a termpipelines control to remove this warning.\n"
          ]
        },
        {
          "output_type": "stream",
          "name": "stderr",
          "text": [
            "/usr/local/lib/python3.7/dist-packages/pyterrier/transformer.py:760: UserWarning: Got number of results different expected from ComposedPipeline(ComposedPipeline(BR(/content/whole_docs_index/data.properties,{'terrierql': 'on', 'parsecontrols': 'on', 'parseql': 'on', 'applypipeline': 'on', 'localmatching': 'on', 'filters': 'on', 'decorate': 'on', 'wmodel': 'BM25'},{'querying.processes': 'terrierql:TerrierQLParser,parsecontrols:TerrierQLToControls,parseql:TerrierQLToMatchingQueryTerms,matchopql:MatchingOpQLParser,applypipeline:ApplyTermPipeline,context_wmodel:org.terrier.python.WmodelFromContextProcess,localmatching:LocalManager$ApplyLocalMatching,qe:QueryExpansion,labels:org.terrier.learning.LabelDecorator,filters:LocalManager$PostFilterProcess,decorate:SimpleDecorateProcess', 'querying.postfilters': 'decorate:SimpleDecorate,site:SiteFilter,scope:Scope', 'querying.default.controls': 'wmodel:DPH,parsecontrols:on,parseql:on,applypipeline:on,terrierql:on,localmatching:on,filters:on,decorate:on', 'querying.allowed.controls': 'scope,qe,qemodel,start,end,site,scope,applypipeline', 'termpipelines': 'Stopwords,PorterStemmer'}), <pyterrier.rewrite.Bo1QueryExpansion object at 0x7fb0491b12d0>), BR(/content/whole_docs_index/data.properties,{'terrierql': 'on', 'parsecontrols': 'on', 'parseql': 'on', 'applypipeline': 'on', 'localmatching': 'on', 'filters': 'on', 'decorate': 'on', 'wmodel': 'BM25'},{'querying.processes': 'terrierql:TerrierQLParser,parsecontrols:TerrierQLToControls,parseql:TerrierQLToMatchingQueryTerms,matchopql:MatchingOpQLParser,applypipeline:ApplyTermPipeline,context_wmodel:org.terrier.python.WmodelFromContextProcess,localmatching:LocalManager$ApplyLocalMatching,qe:QueryExpansion,labels:org.terrier.learning.LabelDecorator,filters:LocalManager$PostFilterProcess,decorate:SimpleDecorateProcess', 'querying.postfilters': 'decorate:SimpleDecorate,site:SiteFilter,scope:Scope', 'querying.default.controls': 'wmodel:DPH,parsecontrols:on,parseql:on,applypipeline:on,terrierql:on,localmatching:on,filters:on,decorate:on', 'querying.allowed.controls': 'scope,qe,qemodel,start,end,site,scope,applypipeline', 'termpipelines': 'Stopwords,PorterStemmer'})), expected 2000 received 20000, feature scores for any missing documents be 0, extraneous documents will be removed\n",
            "  warn(\"Got number of results different expected from %s, expected %d received %d, feature scores for any missing documents be 0, extraneous documents will be removed\" % (repr(m), num_results, len(res)))\n"
          ]
        },
        {
          "output_type": "stream",
          "name": "stdout",
          "text": [
            "19:53:05.000 [main] WARN org.terrier.querying.ApplyTermPipeline - The index has no termpipelines configuration, and no control configuration is found. Defaulting to global termpipelines configuration of 'Stopwords,PorterStemmer'. Set a termpipelines control to remove this warning.\n",
            "19:53:05.427 [main] WARN org.terrier.querying.ApplyTermPipeline - The index has no termpipelines configuration, and no control configuration is found. Defaulting to global termpipelines configuration of 'Stopwords,PorterStemmer'. Set a termpipelines control to remove this warning.\n",
            "19:53:05.894 [main] WARN org.terrier.querying.ApplyTermPipeline - The index has no termpipelines configuration, and no control configuration is found. Defaulting to global termpipelines configuration of 'Stopwords,PorterStemmer'. Set a termpipelines control to remove this warning.\n",
            "19:53:06.336 [main] WARN org.terrier.querying.ApplyTermPipeline - The index has no termpipelines configuration, and no control configuration is found. Defaulting to global termpipelines configuration of 'Stopwords,PorterStemmer'. Set a termpipelines control to remove this warning.\n"
          ]
        },
        {
          "output_type": "stream",
          "name": "stderr",
          "text": [
            "/usr/local/lib/python3.7/dist-packages/pyterrier/transformer.py:760: UserWarning: Got number of results different expected from ComposedPipeline(ComposedPipeline(BR(/content/whole_docs_index/data.properties,{'terrierql': 'on', 'parsecontrols': 'on', 'parseql': 'on', 'applypipeline': 'on', 'localmatching': 'on', 'filters': 'on', 'decorate': 'on', 'wmodel': 'BM25'},{'querying.processes': 'terrierql:TerrierQLParser,parsecontrols:TerrierQLToControls,parseql:TerrierQLToMatchingQueryTerms,matchopql:MatchingOpQLParser,applypipeline:ApplyTermPipeline,context_wmodel:org.terrier.python.WmodelFromContextProcess,localmatching:LocalManager$ApplyLocalMatching,qe:QueryExpansion,labels:org.terrier.learning.LabelDecorator,filters:LocalManager$PostFilterProcess,decorate:SimpleDecorateProcess', 'querying.postfilters': 'decorate:SimpleDecorate,site:SiteFilter,scope:Scope', 'querying.default.controls': 'wmodel:DPH,parsecontrols:on,parseql:on,applypipeline:on,terrierql:on,localmatching:on,filters:on,decorate:on', 'querying.allowed.controls': 'scope,qe,qemodel,start,end,site,scope,applypipeline', 'termpipelines': 'Stopwords,PorterStemmer'}), <pyterrier.rewrite.Bo1QueryExpansion object at 0x7fb0491b12d0>), BR(/content/whole_docs_index/data.properties,{'terrierql': 'on', 'parsecontrols': 'on', 'parseql': 'on', 'applypipeline': 'on', 'localmatching': 'on', 'filters': 'on', 'decorate': 'on', 'wmodel': 'BM25'},{'querying.processes': 'terrierql:TerrierQLParser,parsecontrols:TerrierQLToControls,parseql:TerrierQLToMatchingQueryTerms,matchopql:MatchingOpQLParser,applypipeline:ApplyTermPipeline,context_wmodel:org.terrier.python.WmodelFromContextProcess,localmatching:LocalManager$ApplyLocalMatching,qe:QueryExpansion,labels:org.terrier.learning.LabelDecorator,filters:LocalManager$PostFilterProcess,decorate:SimpleDecorateProcess', 'querying.postfilters': 'decorate:SimpleDecorate,site:SiteFilter,scope:Scope', 'querying.default.controls': 'wmodel:DPH,parsecontrols:on,parseql:on,applypipeline:on,terrierql:on,localmatching:on,filters:on,decorate:on', 'querying.allowed.controls': 'scope,qe,qemodel,start,end,site,scope,applypipeline', 'termpipelines': 'Stopwords,PorterStemmer'})), expected 428 received 5000, feature scores for any missing documents be 0, extraneous documents will be removed\n",
            "  warn(\"Got number of results different expected from %s, expected %d received %d, feature scores for any missing documents be 0, extraneous documents will be removed\" % (repr(m), num_results, len(res)))\n"
          ]
        },
        {
          "output_type": "stream",
          "name": "stdout",
          "text": [
            "[1]\tvalid_0's ndcg@10: 0.84837\n",
            "Training until validation scores don't improve for 5 rounds.\n",
            "[2]\tvalid_0's ndcg@10: 0.847061\n",
            "[3]\tvalid_0's ndcg@10: 0.852875\n",
            "[4]\tvalid_0's ndcg@10: 0.843621\n",
            "[5]\tvalid_0's ndcg@10: 0.824009\n",
            "[6]\tvalid_0's ndcg@10: 0.830848\n",
            "[7]\tvalid_0's ndcg@10: 0.838741\n",
            "[8]\tvalid_0's ndcg@10: 0.850101\n",
            "Early stopping, best iteration is:\n",
            "[3]\tvalid_0's ndcg@10: 0.852875\n",
            "CPU times: user 27.5 s, sys: 522 ms, total: 28 s\n",
            "Wall time: 18.6 s\n"
          ]
        },
        {
          "output_type": "stream",
          "name": "stderr",
          "text": [
            "/usr/local/lib/python3.7/dist-packages/lightgbm/engine.py:118: UserWarning: Found `num_iterations` in params. Will use it instead of argument\n",
            "  warnings.warn(\"Found `{}` in params. Will use it instead of argument\".format(alias))\n",
            "/usr/local/lib/python3.7/dist-packages/lightgbm/engine.py:123: UserWarning: Found `early_stopping_rounds` in params. Will use it instead of argument\n",
            "  warnings.warn(\"Found `{}` in params. Will use it instead of argument\".format(alias))\n"
          ]
        }
      ]
    },
    {
      "cell_type": "code",
      "metadata": {
        "colab": {
          "base_uri": "https://localhost:8080/"
        },
        "id": "ON0slaZ2VnCo",
        "outputId": "163bbe13-13ef-4d82-e40a-b56073e617e4"
      },
      "source": [
        "feature_names = [\"bm25\",\"recipe name\",\"keywords\",\"description\",\"ingredients\",\"rate\",\"views\",\"query expansion\"]\n",
        "print(\"*************** this is rf ***************\")\n",
        "for i in range(len(feature_names)):\n",
        "  print(f\"feature: {feature_names[i]}, importance: {rf.feature_importances_[i]}\")\n",
        "print(\"*************** this is lgbm ***************\")\n",
        "for i in range(len(feature_names)):\n",
        "  print(f\"feature: {feature_names[i]}, importance: {lmart_l.feature_importances_[i]}\")"
      ],
      "execution_count": 87,
      "outputs": [
        {
          "output_type": "stream",
          "name": "stdout",
          "text": [
            "*************** this is rf ***************\n",
            "feature: bm25, importance: 0.17660586175499862\n",
            "feature: recipe name, importance: 0.2857594413452853\n",
            "feature: keywords, importance: 0.01537880784511263\n",
            "feature: description, importance: 0.04399860649627774\n",
            "feature: ingredients, importance: 0.2200536029600199\n",
            "feature: rate, importance: 0.014028855601104307\n",
            "feature: views, importance: 0.03040160542210648\n",
            "feature: query expansion, importance: 0.21377321857509501\n",
            "*************** this is lgbm ***************\n",
            "feature: bm25, importance: 625.0594865083694\n",
            "feature: recipe name, importance: 2218.44108915329\n",
            "feature: keywords, importance: 103.33729934692383\n",
            "feature: description, importance: 324.30929946899414\n",
            "feature: ingredients, importance: 1587.351601243019\n",
            "feature: rate, importance: 62.7318000793457\n",
            "feature: views, importance: 115.9630491733551\n",
            "feature: query expansion, importance: 1522.1083855628967\n"
          ]
        }
      ]
    },
    {
      "cell_type": "code",
      "metadata": {
        "colab": {
          "base_uri": "https://localhost:8080/",
          "height": 507
        },
        "id": "i6sjVxdnvn8n",
        "outputId": "c1f4876a-477f-4a20-bf99-6c1700d2ab60"
      },
      "source": [
        "pt.Experiment(\n",
        "    [rf_pipe % 50,lmart_x_pipe, bm25 % 50, tfidf % 50],\n",
        "    test_topics,\n",
        "    qrels,\n",
        "    eval_metrics=[\"map\", \"ndcg\", nDCG@10, \"mrt\"],\n",
        "    names=[\"rf model\",\"lgbm model\",\"bm25\",\"tfidf\"],\n",
        "    baseline = 3\n",
        ")"
      ],
      "execution_count": 89,
      "outputs": [
        {
          "output_type": "stream",
          "name": "stdout",
          "text": [
            "19:54:50.086 [main] WARN org.terrier.querying.ApplyTermPipeline - The index has no termpipelines configuration, and no control configuration is found. Defaulting to global termpipelines configuration of 'Stopwords,PorterStemmer'. Set a termpipelines control to remove this warning.\n",
            "19:54:50.551 [main] WARN org.terrier.querying.ApplyTermPipeline - The index has no termpipelines configuration, and no control configuration is found. Defaulting to global termpipelines configuration of 'Stopwords,PorterStemmer'. Set a termpipelines control to remove this warning.\n",
            "19:54:51.074 [main] WARN org.terrier.querying.ApplyTermPipeline - The index has no termpipelines configuration, and no control configuration is found. Defaulting to global termpipelines configuration of 'Stopwords,PorterStemmer'. Set a termpipelines control to remove this warning.\n",
            "19:54:51.578 [main] WARN org.terrier.querying.ApplyTermPipeline - The index has no termpipelines configuration, and no control configuration is found. Defaulting to global termpipelines configuration of 'Stopwords,PorterStemmer'. Set a termpipelines control to remove this warning.\n"
          ]
        },
        {
          "output_type": "stream",
          "name": "stderr",
          "text": [
            "/usr/local/lib/python3.7/dist-packages/pyterrier/transformer.py:760: UserWarning: Got number of results different expected from ComposedPipeline(ComposedPipeline(BR(/content/whole_docs_index/data.properties,{'terrierql': 'on', 'parsecontrols': 'on', 'parseql': 'on', 'applypipeline': 'on', 'localmatching': 'on', 'filters': 'on', 'decorate': 'on', 'wmodel': 'BM25'},{'querying.processes': 'terrierql:TerrierQLParser,parsecontrols:TerrierQLToControls,parseql:TerrierQLToMatchingQueryTerms,matchopql:MatchingOpQLParser,applypipeline:ApplyTermPipeline,context_wmodel:org.terrier.python.WmodelFromContextProcess,localmatching:LocalManager$ApplyLocalMatching,qe:QueryExpansion,labels:org.terrier.learning.LabelDecorator,filters:LocalManager$PostFilterProcess,decorate:SimpleDecorateProcess', 'querying.postfilters': 'decorate:SimpleDecorate,site:SiteFilter,scope:Scope', 'querying.default.controls': 'wmodel:DPH,parsecontrols:on,parseql:on,applypipeline:on,terrierql:on,localmatching:on,filters:on,decorate:on', 'querying.allowed.controls': 'scope,qe,qemodel,start,end,site,scope,applypipeline', 'termpipelines': 'Stopwords,PorterStemmer'}), <pyterrier.rewrite.Bo1QueryExpansion object at 0x7fb0491b12d0>), BR(/content/whole_docs_index/data.properties,{'terrierql': 'on', 'parsecontrols': 'on', 'parseql': 'on', 'applypipeline': 'on', 'localmatching': 'on', 'filters': 'on', 'decorate': 'on', 'wmodel': 'BM25'},{'querying.processes': 'terrierql:TerrierQLParser,parsecontrols:TerrierQLToControls,parseql:TerrierQLToMatchingQueryTerms,matchopql:MatchingOpQLParser,applypipeline:ApplyTermPipeline,context_wmodel:org.terrier.python.WmodelFromContextProcess,localmatching:LocalManager$ApplyLocalMatching,qe:QueryExpansion,labels:org.terrier.learning.LabelDecorator,filters:LocalManager$PostFilterProcess,decorate:SimpleDecorateProcess', 'querying.postfilters': 'decorate:SimpleDecorate,site:SiteFilter,scope:Scope', 'querying.default.controls': 'wmodel:DPH,parsecontrols:on,parseql:on,applypipeline:on,terrierql:on,localmatching:on,filters:on,decorate:on', 'querying.allowed.controls': 'scope,qe,qemodel,start,end,site,scope,applypipeline', 'termpipelines': 'Stopwords,PorterStemmer'})), expected 500 received 5000, feature scores for any missing documents be 0, extraneous documents will be removed\n",
            "  warn(\"Got number of results different expected from %s, expected %d received %d, feature scores for any missing documents be 0, extraneous documents will be removed\" % (repr(m), num_results, len(res)))\n",
            "[Parallel(n_jobs=2)]: Using backend ThreadingBackend with 2 concurrent workers.\n",
            "[Parallel(n_jobs=2)]: Done  46 tasks      | elapsed:    0.0s\n",
            "[Parallel(n_jobs=2)]: Done 196 tasks      | elapsed:    0.1s\n",
            "[Parallel(n_jobs=2)]: Done 400 out of 400 | elapsed:    0.2s finished\n"
          ]
        },
        {
          "output_type": "stream",
          "name": "stdout",
          "text": [
            "19:54:54.986 [main] WARN org.terrier.querying.ApplyTermPipeline - The index has no termpipelines configuration, and no control configuration is found. Defaulting to global termpipelines configuration of 'Stopwords,PorterStemmer'. Set a termpipelines control to remove this warning.\n",
            "19:54:55.441 [main] WARN org.terrier.querying.ApplyTermPipeline - The index has no termpipelines configuration, and no control configuration is found. Defaulting to global termpipelines configuration of 'Stopwords,PorterStemmer'. Set a termpipelines control to remove this warning.\n",
            "19:54:55.958 [main] WARN org.terrier.querying.ApplyTermPipeline - The index has no termpipelines configuration, and no control configuration is found. Defaulting to global termpipelines configuration of 'Stopwords,PorterStemmer'. Set a termpipelines control to remove this warning.\n",
            "19:54:56.458 [main] WARN org.terrier.querying.ApplyTermPipeline - The index has no termpipelines configuration, and no control configuration is found. Defaulting to global termpipelines configuration of 'Stopwords,PorterStemmer'. Set a termpipelines control to remove this warning.\n"
          ]
        },
        {
          "output_type": "stream",
          "name": "stderr",
          "text": [
            "/usr/local/lib/python3.7/dist-packages/pyterrier/transformer.py:760: UserWarning: Got number of results different expected from ComposedPipeline(ComposedPipeline(BR(/content/whole_docs_index/data.properties,{'terrierql': 'on', 'parsecontrols': 'on', 'parseql': 'on', 'applypipeline': 'on', 'localmatching': 'on', 'filters': 'on', 'decorate': 'on', 'wmodel': 'BM25'},{'querying.processes': 'terrierql:TerrierQLParser,parsecontrols:TerrierQLToControls,parseql:TerrierQLToMatchingQueryTerms,matchopql:MatchingOpQLParser,applypipeline:ApplyTermPipeline,context_wmodel:org.terrier.python.WmodelFromContextProcess,localmatching:LocalManager$ApplyLocalMatching,qe:QueryExpansion,labels:org.terrier.learning.LabelDecorator,filters:LocalManager$PostFilterProcess,decorate:SimpleDecorateProcess', 'querying.postfilters': 'decorate:SimpleDecorate,site:SiteFilter,scope:Scope', 'querying.default.controls': 'wmodel:DPH,parsecontrols:on,parseql:on,applypipeline:on,terrierql:on,localmatching:on,filters:on,decorate:on', 'querying.allowed.controls': 'scope,qe,qemodel,start,end,site,scope,applypipeline', 'termpipelines': 'Stopwords,PorterStemmer'}), <pyterrier.rewrite.Bo1QueryExpansion object at 0x7fb0491b12d0>), BR(/content/whole_docs_index/data.properties,{'terrierql': 'on', 'parsecontrols': 'on', 'parseql': 'on', 'applypipeline': 'on', 'localmatching': 'on', 'filters': 'on', 'decorate': 'on', 'wmodel': 'BM25'},{'querying.processes': 'terrierql:TerrierQLParser,parsecontrols:TerrierQLToControls,parseql:TerrierQLToMatchingQueryTerms,matchopql:MatchingOpQLParser,applypipeline:ApplyTermPipeline,context_wmodel:org.terrier.python.WmodelFromContextProcess,localmatching:LocalManager$ApplyLocalMatching,qe:QueryExpansion,labels:org.terrier.learning.LabelDecorator,filters:LocalManager$PostFilterProcess,decorate:SimpleDecorateProcess', 'querying.postfilters': 'decorate:SimpleDecorate,site:SiteFilter,scope:Scope', 'querying.default.controls': 'wmodel:DPH,parsecontrols:on,parseql:on,applypipeline:on,terrierql:on,localmatching:on,filters:on,decorate:on', 'querying.allowed.controls': 'scope,qe,qemodel,start,end,site,scope,applypipeline', 'termpipelines': 'Stopwords,PorterStemmer'})), expected 500 received 5000, feature scores for any missing documents be 0, extraneous documents will be removed\n",
            "  warn(\"Got number of results different expected from %s, expected %d received %d, feature scores for any missing documents be 0, extraneous documents will be removed\" % (repr(m), num_results, len(res)))\n"
          ]
        },
        {
          "output_type": "execute_result",
          "data": {
            "text/html": [
              "<div>\n",
              "<style scoped>\n",
              "    .dataframe tbody tr th:only-of-type {\n",
              "        vertical-align: middle;\n",
              "    }\n",
              "\n",
              "    .dataframe tbody tr th {\n",
              "        vertical-align: top;\n",
              "    }\n",
              "\n",
              "    .dataframe thead th {\n",
              "        text-align: right;\n",
              "    }\n",
              "</style>\n",
              "<table border=\"1\" class=\"dataframe\">\n",
              "  <thead>\n",
              "    <tr style=\"text-align: right;\">\n",
              "      <th></th>\n",
              "      <th>name</th>\n",
              "      <th>map</th>\n",
              "      <th>ndcg</th>\n",
              "      <th>nDCG@10</th>\n",
              "      <th>mrt</th>\n",
              "      <th>map +</th>\n",
              "      <th>map -</th>\n",
              "      <th>map p-value</th>\n",
              "      <th>ndcg +</th>\n",
              "      <th>ndcg -</th>\n",
              "      <th>ndcg p-value</th>\n",
              "      <th>nDCG@10 +</th>\n",
              "      <th>nDCG@10 -</th>\n",
              "      <th>nDCG@10 p-value</th>\n",
              "    </tr>\n",
              "  </thead>\n",
              "  <tbody>\n",
              "    <tr>\n",
              "      <th>0</th>\n",
              "      <td>rf model</td>\n",
              "      <td>0.315263</td>\n",
              "      <td>0.471756</td>\n",
              "      <td>0.660591</td>\n",
              "      <td>987.669627</td>\n",
              "      <td>3.0</td>\n",
              "      <td>2.0</td>\n",
              "      <td>0.87680</td>\n",
              "      <td>3.0</td>\n",
              "      <td>2.0</td>\n",
              "      <td>0.622340</td>\n",
              "      <td>0.0</td>\n",
              "      <td>5.0</td>\n",
              "      <td>0.049902</td>\n",
              "    </tr>\n",
              "    <tr>\n",
              "      <th>1</th>\n",
              "      <td>lgbm model</td>\n",
              "      <td>0.463418</td>\n",
              "      <td>0.615982</td>\n",
              "      <td>0.778975</td>\n",
              "      <td>879.488496</td>\n",
              "      <td>5.0</td>\n",
              "      <td>0.0</td>\n",
              "      <td>0.01838</td>\n",
              "      <td>5.0</td>\n",
              "      <td>0.0</td>\n",
              "      <td>0.002822</td>\n",
              "      <td>3.0</td>\n",
              "      <td>2.0</td>\n",
              "      <td>0.785933</td>\n",
              "    </tr>\n",
              "    <tr>\n",
              "      <th>2</th>\n",
              "      <td>bm25</td>\n",
              "      <td>0.322835</td>\n",
              "      <td>0.459698</td>\n",
              "      <td>0.762654</td>\n",
              "      <td>129.161880</td>\n",
              "      <td>2.0</td>\n",
              "      <td>1.0</td>\n",
              "      <td>0.91607</td>\n",
              "      <td>3.0</td>\n",
              "      <td>0.0</td>\n",
              "      <td>0.343074</td>\n",
              "      <td>1.0</td>\n",
              "      <td>1.0</td>\n",
              "      <td>0.569462</td>\n",
              "    </tr>\n",
              "    <tr>\n",
              "      <th>3</th>\n",
              "      <td>tfidf</td>\n",
              "      <td>0.322784</td>\n",
              "      <td>0.456783</td>\n",
              "      <td>0.764173</td>\n",
              "      <td>155.015278</td>\n",
              "      <td>NaN</td>\n",
              "      <td>NaN</td>\n",
              "      <td>NaN</td>\n",
              "      <td>NaN</td>\n",
              "      <td>NaN</td>\n",
              "      <td>NaN</td>\n",
              "      <td>NaN</td>\n",
              "      <td>NaN</td>\n",
              "      <td>NaN</td>\n",
              "    </tr>\n",
              "  </tbody>\n",
              "</table>\n",
              "</div>"
            ],
            "text/plain": [
              "         name       map      ndcg  ...  nDCG@10 +  nDCG@10 -  nDCG@10 p-value\n",
              "0    rf model  0.315263  0.471756  ...        0.0        5.0         0.049902\n",
              "1  lgbm model  0.463418  0.615982  ...        3.0        2.0         0.785933\n",
              "2        bm25  0.322835  0.459698  ...        1.0        1.0         0.569462\n",
              "3       tfidf  0.322784  0.456783  ...        NaN        NaN              NaN\n",
              "\n",
              "[4 rows x 14 columns]"
            ]
          },
          "metadata": {},
          "execution_count": 89
        }
      ]
    },
    {
      "cell_type": "code",
      "metadata": {
        "id": "RbCpkfhC0rbo"
      },
      "source": [
        ""
      ],
      "execution_count": null,
      "outputs": []
    }
  ]
}